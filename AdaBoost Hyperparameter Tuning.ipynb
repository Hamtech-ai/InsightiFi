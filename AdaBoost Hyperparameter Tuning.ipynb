{
 "cells": [
  {
   "cell_type": "code",
   "execution_count": 1,
   "id": "92975cfa",
   "metadata": {},
   "outputs": [
    {
     "name": "stdout",
     "output_type": "stream",
     "text": [
      "Requirement already satisfied: jalali-pandas in c:\\users\\user\\anaconda3\\envs\\hamtech\\lib\\site-packages (0.2.2)\n",
      "Requirement already satisfied: jdatetime<4.0.0,>=3.6.4 in c:\\users\\user\\anaconda3\\envs\\hamtech\\lib\\site-packages (from jalali-pandas) (3.8.2)\n"
     ]
    }
   ],
   "source": [
    "!pip install jalali-pandas "
   ]
  },
  {
   "cell_type": "code",
   "execution_count": 2,
   "id": "ea59db50",
   "metadata": {},
   "outputs": [
    {
     "name": "stdout",
     "output_type": "stream",
     "text": [
      "Requirement already satisfied: ta in c:\\users\\user\\anaconda3\\envs\\hamtech\\lib\\site-packages (0.10.2)\n",
      "Requirement already satisfied: pandas in c:\\users\\user\\anaconda3\\envs\\hamtech\\lib\\site-packages (from ta) (1.4.3)\n",
      "Requirement already satisfied: numpy in c:\\users\\user\\anaconda3\\envs\\hamtech\\lib\\site-packages (from ta) (1.22.3)\n",
      "Requirement already satisfied: pytz>=2020.1 in c:\\users\\user\\anaconda3\\envs\\hamtech\\lib\\site-packages (from pandas->ta) (2022.1)\n",
      "Requirement already satisfied: python-dateutil>=2.8.1 in c:\\users\\user\\anaconda3\\envs\\hamtech\\lib\\site-packages (from pandas->ta) (2.8.2)\n",
      "Requirement already satisfied: six>=1.5 in c:\\users\\user\\anaconda3\\envs\\hamtech\\lib\\site-packages (from python-dateutil>=2.8.1->pandas->ta) (1.16.0)\n"
     ]
    }
   ],
   "source": [
    "!pip install ta"
   ]
  },
  {
   "cell_type": "code",
   "execution_count": 34,
   "id": "a34cb7d7",
   "metadata": {},
   "outputs": [
    {
     "name": "stdout",
     "output_type": "stream",
     "text": [
      "Collecting bayesian-optimization\n",
      "  Downloading bayesian_optimization-1.3.1-py3-none-any.whl (16 kB)\n",
      "Requirement already satisfied: scipy>=1.0.0 in c:\\users\\user\\anaconda3\\envs\\hamtech\\lib\\site-packages (from bayesian-optimization) (1.7.3)\n",
      "Requirement already satisfied: numpy>=1.9.0 in c:\\users\\user\\anaconda3\\envs\\hamtech\\lib\\site-packages (from bayesian-optimization) (1.22.3)\n",
      "Requirement already satisfied: scikit-learn>=0.18.0 in c:\\users\\user\\anaconda3\\envs\\hamtech\\lib\\site-packages (from bayesian-optimization) (1.0.2)\n",
      "Requirement already satisfied: joblib>=0.11 in c:\\users\\user\\anaconda3\\envs\\hamtech\\lib\\site-packages (from scikit-learn>=0.18.0->bayesian-optimization) (1.1.0)\n",
      "Requirement already satisfied: threadpoolctl>=2.0.0 in c:\\users\\user\\anaconda3\\envs\\hamtech\\lib\\site-packages (from scikit-learn>=0.18.0->bayesian-optimization) (2.2.0)\n",
      "Installing collected packages: bayesian-optimization\n",
      "Successfully installed bayesian-optimization-1.3.1\n"
     ]
    }
   ],
   "source": [
    "! pip install bayesian-optimization"
   ]
  },
  {
   "cell_type": "code",
   "execution_count": 23,
   "id": "45bb4351",
   "metadata": {},
   "outputs": [],
   "source": [
    "import numpy as np\n",
    "import pandas as pd\n",
    "\n",
    "import pytse_client as tse\n",
    "from pytse_client.download import download_financial_indexes\n",
    "\n",
    "import jalali_pandas\n",
    "\n",
    "import ta\n",
    "\n",
    "import matplotlib.pyplot as plt"
   ]
  },
  {
   "cell_type": "code",
   "execution_count": 4,
   "id": "e873aabb",
   "metadata": {},
   "outputs": [
    {
     "data": {
      "text/html": [
       "<div>\n",
       "<style scoped>\n",
       "    .dataframe tbody tr th:only-of-type {\n",
       "        vertical-align: middle;\n",
       "    }\n",
       "\n",
       "    .dataframe tbody tr th {\n",
       "        vertical-align: top;\n",
       "    }\n",
       "\n",
       "    .dataframe thead th {\n",
       "        text-align: right;\n",
       "    }\n",
       "</style>\n",
       "<table border=\"1\" class=\"dataframe\">\n",
       "  <thead>\n",
       "    <tr style=\"text-align: right;\">\n",
       "      <th></th>\n",
       "      <th>jdate</th>\n",
       "      <th>date</th>\n",
       "      <th>open</th>\n",
       "      <th>high</th>\n",
       "      <th>low</th>\n",
       "      <th>adjClose</th>\n",
       "      <th>value</th>\n",
       "      <th>volume</th>\n",
       "      <th>count</th>\n",
       "      <th>yesterday</th>\n",
       "      <th>...</th>\n",
       "      <th>SMA80d</th>\n",
       "      <th>SMA_position</th>\n",
       "      <th>STOCH_fast</th>\n",
       "      <th>STOCH_slow</th>\n",
       "      <th>last_STOCH_fast</th>\n",
       "      <th>last_STOCH_slow</th>\n",
       "      <th>STOCH_position</th>\n",
       "      <th>RSI</th>\n",
       "      <th>RSI_position</th>\n",
       "      <th>label</th>\n",
       "    </tr>\n",
       "  </thead>\n",
       "  <tbody>\n",
       "    <tr>\n",
       "      <th>0</th>\n",
       "      <td>1388-02-15</td>\n",
       "      <td>2009-05-05</td>\n",
       "      <td>15.0</td>\n",
       "      <td>15.0</td>\n",
       "      <td>15.0</td>\n",
       "      <td>15.0</td>\n",
       "      <td>1081376640</td>\n",
       "      <td>586112</td>\n",
       "      <td>41</td>\n",
       "      <td>15.0</td>\n",
       "      <td>...</td>\n",
       "      <td>15.4625</td>\n",
       "      <td>0.0</td>\n",
       "      <td>100.0</td>\n",
       "      <td>80.0</td>\n",
       "      <td>100.0</td>\n",
       "      <td>80.0</td>\n",
       "      <td>1.0</td>\n",
       "      <td>49.815169</td>\n",
       "      <td>1.0</td>\n",
       "      <td>1.0</td>\n",
       "    </tr>\n",
       "    <tr>\n",
       "      <th>1</th>\n",
       "      <td>1388-02-16</td>\n",
       "      <td>2009-05-06</td>\n",
       "      <td>15.0</td>\n",
       "      <td>15.0</td>\n",
       "      <td>15.0</td>\n",
       "      <td>15.0</td>\n",
       "      <td>91486200</td>\n",
       "      <td>49452</td>\n",
       "      <td>11</td>\n",
       "      <td>15.0</td>\n",
       "      <td>...</td>\n",
       "      <td>15.4500</td>\n",
       "      <td>0.0</td>\n",
       "      <td>100.0</td>\n",
       "      <td>80.0</td>\n",
       "      <td>100.0</td>\n",
       "      <td>80.0</td>\n",
       "      <td>1.0</td>\n",
       "      <td>49.815169</td>\n",
       "      <td>1.0</td>\n",
       "      <td>1.0</td>\n",
       "    </tr>\n",
       "    <tr>\n",
       "      <th>2</th>\n",
       "      <td>1388-03-16</td>\n",
       "      <td>2009-06-06</td>\n",
       "      <td>17.0</td>\n",
       "      <td>17.0</td>\n",
       "      <td>17.0</td>\n",
       "      <td>17.0</td>\n",
       "      <td>92080076321</td>\n",
       "      <td>45028304</td>\n",
       "      <td>1321</td>\n",
       "      <td>16.0</td>\n",
       "      <td>...</td>\n",
       "      <td>15.2250</td>\n",
       "      <td>0.0</td>\n",
       "      <td>100.0</td>\n",
       "      <td>100.0</td>\n",
       "      <td>100.0</td>\n",
       "      <td>80.0</td>\n",
       "      <td>1.0</td>\n",
       "      <td>72.012437</td>\n",
       "      <td>0.0</td>\n",
       "      <td>1.0</td>\n",
       "    </tr>\n",
       "    <tr>\n",
       "      <th>3</th>\n",
       "      <td>1388-03-17</td>\n",
       "      <td>2009-06-07</td>\n",
       "      <td>17.0</td>\n",
       "      <td>17.0</td>\n",
       "      <td>17.0</td>\n",
       "      <td>17.0</td>\n",
       "      <td>112619748590</td>\n",
       "      <td>54450733</td>\n",
       "      <td>964</td>\n",
       "      <td>17.0</td>\n",
       "      <td>...</td>\n",
       "      <td>15.2250</td>\n",
       "      <td>0.0</td>\n",
       "      <td>100.0</td>\n",
       "      <td>100.0</td>\n",
       "      <td>100.0</td>\n",
       "      <td>100.0</td>\n",
       "      <td>1.0</td>\n",
       "      <td>72.012437</td>\n",
       "      <td>0.0</td>\n",
       "      <td>1.0</td>\n",
       "    </tr>\n",
       "    <tr>\n",
       "      <th>4</th>\n",
       "      <td>1388-03-18</td>\n",
       "      <td>2009-06-08</td>\n",
       "      <td>17.0</td>\n",
       "      <td>18.0</td>\n",
       "      <td>17.0</td>\n",
       "      <td>17.0</td>\n",
       "      <td>9405809014</td>\n",
       "      <td>4426340</td>\n",
       "      <td>253</td>\n",
       "      <td>17.0</td>\n",
       "      <td>...</td>\n",
       "      <td>15.2250</td>\n",
       "      <td>0.0</td>\n",
       "      <td>100.0</td>\n",
       "      <td>100.0</td>\n",
       "      <td>100.0</td>\n",
       "      <td>100.0</td>\n",
       "      <td>1.0</td>\n",
       "      <td>72.012437</td>\n",
       "      <td>0.0</td>\n",
       "      <td>1.0</td>\n",
       "    </tr>\n",
       "  </tbody>\n",
       "</table>\n",
       "<p>5 rows × 151 columns</p>\n",
       "</div>"
      ],
      "text/plain": [
       "        jdate        date  open  high   low  adjClose         value    volume  \\\n",
       "0  1388-02-15  2009-05-05  15.0  15.0  15.0      15.0    1081376640    586112   \n",
       "1  1388-02-16  2009-05-06  15.0  15.0  15.0      15.0      91486200     49452   \n",
       "2  1388-03-16  2009-06-06  17.0  17.0  17.0      17.0   92080076321  45028304   \n",
       "3  1388-03-17  2009-06-07  17.0  17.0  17.0      17.0  112619748590  54450733   \n",
       "4  1388-03-18  2009-06-08  17.0  18.0  17.0      17.0    9405809014   4426340   \n",
       "\n",
       "   count  yesterday  ...   SMA80d  SMA_position  STOCH_fast  STOCH_slow  \\\n",
       "0     41       15.0  ...  15.4625           0.0       100.0        80.0   \n",
       "1     11       15.0  ...  15.4500           0.0       100.0        80.0   \n",
       "2   1321       16.0  ...  15.2250           0.0       100.0       100.0   \n",
       "3    964       17.0  ...  15.2250           0.0       100.0       100.0   \n",
       "4    253       17.0  ...  15.2250           0.0       100.0       100.0   \n",
       "\n",
       "   last_STOCH_fast  last_STOCH_slow  STOCH_position        RSI  RSI_position  \\\n",
       "0            100.0             80.0             1.0  49.815169           1.0   \n",
       "1            100.0             80.0             1.0  49.815169           1.0   \n",
       "2            100.0             80.0             1.0  72.012437           0.0   \n",
       "3            100.0            100.0             1.0  72.012437           0.0   \n",
       "4            100.0            100.0             1.0  72.012437           0.0   \n",
       "\n",
       "   label  \n",
       "0    1.0  \n",
       "1    1.0  \n",
       "2    1.0  \n",
       "3    1.0  \n",
       "4    1.0  \n",
       "\n",
       "[5 rows x 151 columns]"
      ]
     },
     "execution_count": 4,
     "metadata": {},
     "output_type": "execute_result"
    }
   ],
   "source": [
    "url = 'https://raw.githubusercontent.com/Hamtech-ai/iran-stock-market/Alireza_feature_extraction/initFeatures.csv'\n",
    "all_features = pd.read_csv(url)\n",
    "all_features.head()"
   ]
  },
  {
   "cell_type": "markdown",
   "id": "52f8625a",
   "metadata": {},
   "source": [
    "## Train Test Split"
   ]
  },
  {
   "cell_type": "code",
   "execution_count": 5,
   "id": "40a392df",
   "metadata": {},
   "outputs": [],
   "source": [
    "from sklearn.model_selection import train_test_split\n",
    "\n",
    "X = all_features.drop(['label', 'jdate','date'], axis =1)\n",
    "y = all_features['label']\n",
    "\n",
    "X_train, X_test, y_train, y_test = train_test_split(X, y, shuffle = False, random_state = 0)"
   ]
  },
  {
   "cell_type": "markdown",
   "id": "6a67fd2c",
   "metadata": {},
   "source": [
    "## Hyperparameter tuning of Adaboost"
   ]
  },
  {
   "cell_type": "code",
   "execution_count": 6,
   "id": "22466594",
   "metadata": {},
   "outputs": [],
   "source": [
    "# importing all the necessary modules\n",
    "## to find out the optimum number of decision stumps needed for the dataset\n",
    "\n",
    "from numpy import mean\n",
    "from numpy import std\n",
    "from sklearn.datasets import make_classification\n",
    "from sklearn.ensemble import AdaBoostClassifier\n",
    "from sklearn.model_selection import cross_val_score\n",
    "from sklearn.model_selection import RepeatedStratifiedKFold"
   ]
  },
  {
   "cell_type": "markdown",
   "id": "e1e163eb",
   "metadata": {},
   "source": [
    "## Building various AdaBoost models"
   ]
  },
  {
   "cell_type": "code",
   "execution_count": 7,
   "id": "1326a2be",
   "metadata": {},
   "outputs": [
    {
     "data": {
      "text/plain": [
       "{'10': AdaBoostClassifier(n_estimators=10),\n",
       " '50': AdaBoostClassifier(),\n",
       " '100': AdaBoostClassifier(n_estimators=100),\n",
       " '500': AdaBoostClassifier(n_estimators=500),\n",
       " '1000': AdaBoostClassifier(n_estimators=1000)}"
      ]
     },
     "execution_count": 7,
     "metadata": {},
     "output_type": "execute_result"
    }
   ],
   "source": [
    "# Creating a function that builds different AdaBoost models.\n",
    "# Specifying a different number of decision stamps from 50 to 1000 for the model.\n",
    "\n",
    "# fuction to create models\n",
    "def build_models():\n",
    "    \n",
    "    # dic of models\n",
    "    Ada_models = dict()\n",
    "    \n",
    "    # number of decision stumps\n",
    "    decision_stump= [10, 50, 100, 500, 1000]\n",
    "        \n",
    "    # using for loop to iterate though trees\n",
    "    for i in decision_stump:\n",
    "        \n",
    "        # building model with specified trees\n",
    "        Ada_models[str(i)] = AdaBoostClassifier(n_estimators=i)\n",
    "    return Ada_models\n",
    "\n",
    "build_models()"
   ]
  },
  {
   "cell_type": "markdown",
   "id": "2fb4b524",
   "metadata": {},
   "source": [
    "## The validation of the models"
   ]
  },
  {
   "cell_type": "code",
   "execution_count": 8,
   "id": "67cdb37b",
   "metadata": {},
   "outputs": [],
   "source": [
    "# Building a function to validate models using the cross-validation method. \n",
    "# The function returns the accuracy score of the models.\n",
    "\n",
    "## input output\n",
    "\n",
    "def evaluate_model(model, Input, Ouput):\n",
    "    \n",
    "    # defining the method of validation\n",
    "    cv = RepeatedStratifiedKFold(n_splits=10, n_repeats=3)\n",
    "    \n",
    "    # validating the model based on the accurasy score\n",
    "    accuracy = cross_val_score(model, Input, Ouput, scoring='accuracy', cv=cv, n_jobs=-1)\n",
    "    \n",
    "    # accuracy score- hyperparameter tuning of Adaboost\n",
    "    return accuracy"
   ]
  },
  {
   "cell_type": "code",
   "execution_count": 9,
   "id": "2ad50228",
   "metadata": {},
   "outputs": [
    {
     "name": "stdout",
     "output_type": "stream",
     "text": [
      "---->Stump tree (10)---Accuracy( 0.75912)\n",
      "---->Stump tree (50)---Accuracy( 0.81580)\n",
      "---->Stump tree (100)---Accuracy( 0.84562)\n",
      "---->Stump tree (500)---Accuracy( 0.90972)\n",
      "---->Stump tree (1000)---Accuracy( 0.92550)\n"
     ]
    }
   ],
   "source": [
    "# Calling the above functions to create models and evaluate them based on the accuracy score\n",
    "\n",
    "# calling the build_models function\n",
    "models = build_models()\n",
    "\n",
    "# creating list\n",
    "results, names = list(), list()\n",
    "\n",
    "# using for loop to iterate thoug the models\n",
    "for name, model in models.items():\n",
    "    \n",
    "    # calling the validation function\n",
    "    scores = evaluate_model(model, X, y)\n",
    "    \n",
    "    # appending the accuray socres in results\n",
    "    results.append(scores)\n",
    "    names.append(name)\n",
    "    \n",
    "    # printing results of hyperparameter tuning of Adaboost\n",
    "    print('---->Stump tree (%s)---Accuracy( %.5f)' % (name, mean(scores)))\n",
    "    "
   ]
  },
  {
   "cell_type": "code",
   "execution_count": 11,
   "id": "82cccbfa",
   "metadata": {},
   "outputs": [
    {
     "data": {
      "image/png": "[encoded data removed]",
      "text/plain": [
       "<Figure size 640x480 with 1 Axes>"
      ]
     },
     "metadata": {},
     "output_type": "display_data"
    }
   ],
   "source": [
    "# plotting box plot of the \n",
    "plt.boxplot(results, labels=names, showmeans=True)\n",
    "# showing the plot\n",
    "plt.show()"
   ]
  },
  {
   "cell_type": "markdown",
   "id": "0131fed2",
   "metadata": {},
   "source": [
    "## 1. Tunning the weak learner in AdaBoost"
   ]
  },
  {
   "cell_type": "code",
   "execution_count": 12,
   "id": "eda6cca2",
   "metadata": {},
   "outputs": [],
   "source": [
    "# Creating a function that builds models for trees of different depths.\n",
    "\n",
    "def build_models():\n",
    "    \n",
    "    models = dict()\n",
    "    \n",
    "    # specifying the depth of trees\n",
    "    for i in range(1,8):\n",
    "        \n",
    "        # model\n",
    "        base_model = DecisionTreeClassifier(max_depth=i)\n",
    "        \n",
    "        # creating dic of modles\n",
    "        models[str(i)] = AdaBoostClassifier(base_estimator=base_model)\n",
    "        \n",
    "    # returining the model -results of hyperparameter tuning of Adaboost\n",
    "    return models"
   ]
  },
  {
   "cell_type": "code",
   "execution_count": 15,
   "id": "2be60c61",
   "metadata": {},
   "outputs": [
    {
     "name": "stdout",
     "output_type": "stream",
     "text": [
      "---->Stump tree (1)---Accuracy( 0.81098)\n",
      "---->Stump tree (2)---Accuracy( 0.89271)\n",
      "---->Stump tree (3)---Accuracy( 0.90950)\n",
      "---->Stump tree (4)---Accuracy( 0.90674)\n",
      "---->Stump tree (5)---Accuracy( 0.89727)\n",
      "---->Stump tree (6)---Accuracy( 0.89258)\n",
      "---->Stump tree (7)---Accuracy( 0.89727)\n"
     ]
    }
   ],
   "source": [
    "# Calling Functions and Finding the Optimal Depth for the Weak Learner AdaBoost:\n",
    "\n",
    "from sklearn.tree import DecisionTreeClassifier\n",
    "\n",
    "models = build_models()\n",
    "\n",
    "# creating lists \n",
    "results, names = list(), list()\n",
    "\n",
    "# iterating through the models\n",
    "for name, model in models.items():\n",
    "    \n",
    "    # calling the evalution function\n",
    "    accuracy = evaluate_model(model, X, y)\n",
    "    \n",
    "    # appending the results\n",
    "    results.append(accuracy)\n",
    "    names.append(name)\n",
    "    \n",
    "    # printing results of hyperparameter tuning of Adaboost\n",
    "    print('---->Stump tree (%s)---Accuracy( %.5f)' % (name, mean(accuracy)))"
   ]
  },
  {
   "cell_type": "markdown",
   "id": "98d7d930",
   "metadata": {},
   "source": [
    "#### The accuracy increases to 3 depth and then starts decreasing. So, the optimum depth for weak learners is 3."
   ]
  },
  {
   "cell_type": "code",
   "execution_count": 17,
   "id": "aa90f1a0",
   "metadata": {},
   "outputs": [
    {
     "data": {
      "image/png": "[encoded data removed]",
      "text/plain": [
       "<Figure size 640x480 with 1 Axes>"
      ]
     },
     "metadata": {},
     "output_type": "display_data"
    }
   ],
   "source": [
    "# plotting box plot of the \n",
    "plt.boxplot(results, labels=names,showmeans=True)\n",
    "# showing the plot\n",
    "plt.show()"
   ]
  },
  {
   "cell_type": "markdown",
   "id": "3c307dcd",
   "metadata": {},
   "source": [
    "## 2. Tuning learning rate in AdaBoost (the step size of each iteration)"
   ]
  },
  {
   "cell_type": "code",
   "execution_count": 24,
   "id": "07d3ed73",
   "metadata": {},
   "outputs": [],
   "source": [
    "# creating a function that will create multiple models with different values of learning rate\n",
    "\n",
    "def build_models():\n",
    "    \n",
    "    models = dict()\n",
    "    \n",
    "    # learning rate for various values\n",
    "    for i in np.arange(0.1, 2.1, 0.1):\n",
    "        key = '%.3f' % i\n",
    "        \n",
    "        # models in dic\n",
    "        models[key] = AdaBoostClassifier(learning_rate=i)\n",
    "    \n",
    "    # returning models -results of hyperparameter tuning of Adaboost\n",
    "    return models"
   ]
  },
  {
   "cell_type": "code",
   "execution_count": 26,
   "id": "21b3c563",
   "metadata": {},
   "outputs": [
    {
     "name": "stdout",
     "output_type": "stream",
     "text": [
      "---->Stump tree (0.100)---Accuracy( 0.75032)\n",
      "---->Stump tree (0.200)---Accuracy( 0.78219)\n",
      "---->Stump tree (0.300)---Accuracy( 0.79054)\n",
      "---->Stump tree (0.400)---Accuracy( 0.79728)\n",
      "---->Stump tree (0.500)---Accuracy( 0.80059)\n",
      "---->Stump tree (0.600)---Accuracy( 0.79762)\n",
      "---->Stump tree (0.700)---Accuracy( 0.80597)\n",
      "---->Stump tree (0.800)---Accuracy( 0.80859)\n",
      "---->Stump tree (0.900)---Accuracy( 0.80847)\n",
      "---->Stump tree (1.000)---Accuracy( 0.81557)\n",
      "---->Stump tree (1.100)---Accuracy( 0.81556)\n",
      "---->Stump tree (1.200)---Accuracy( 0.81978)\n",
      "---->Stump tree (1.300)---Accuracy( 0.82265)\n",
      "---->Stump tree (1.400)---Accuracy( 0.82174)\n",
      "---->Stump tree (1.500)---Accuracy( 0.81865)\n",
      "---->Stump tree (1.600)---Accuracy( 0.82620)\n",
      "---->Stump tree (1.700)---Accuracy( 0.82208)\n",
      "---->Stump tree (1.800)---Accuracy( 0.81442)\n",
      "---->Stump tree (1.900)---Accuracy( 0.78996)\n",
      "---->Stump tree (2.000)---Accuracy( 0.29069)\n"
     ]
    }
   ],
   "source": [
    "# calling the evaluation function\n",
    "\n",
    "models = build_models()\n",
    "\n",
    "# creating the list\n",
    "results, names = list(), list()\n",
    "\n",
    "# iterate through the models\n",
    "for name, model in models.items():\n",
    "    \n",
    "    # calling the evaluting function\n",
    "    accuracy = evaluate_model(model, X, y)\n",
    "    \n",
    "    # storing the accurcy\n",
    "    results.append(accuracy)\n",
    "    names.append(name)\n",
    "    \n",
    "    # printing results of hyperparameter tuning of Adaboost\n",
    "    print('---->Stump tree (%s)---Accuracy( %.5f)' % (name, mean(accuracy)))"
   ]
  },
  {
   "cell_type": "markdown",
   "id": "07eeb214",
   "metadata": {},
   "source": [
    "#### we have optimum accuracy when the learning rate is equal to 1.6"
   ]
  },
  {
   "cell_type": "code",
   "execution_count": 29,
   "id": "33745845",
   "metadata": {},
   "outputs": [
    {
     "data": {
      "image/png": "[encoded data removed]",
      "text/plain": [
       "<Figure size 1000x800 with 1 Axes>"
      ]
     },
     "metadata": {},
     "output_type": "display_data"
    }
   ],
   "source": [
    "# fixing the size\n",
    "plt.figure(figsize=(10, 8))\n",
    "# plotting the values\n",
    "plt.boxplot(results, labels=names, showmeans=True)\n",
    "plt.show()"
   ]
  },
  {
   "cell_type": "markdown",
   "id": "98571bde",
   "metadata": {},
   "source": [
    "## Hyperparameter tuning of ada boost using gridSearchCV"
   ]
  },
  {
   "cell_type": "code",
   "execution_count": 32,
   "id": "1a23b4d3",
   "metadata": {},
   "outputs": [
    {
     "name": "stdout",
     "output_type": "stream",
     "text": [
      "Best: 0.914072 using {'learning_rate': 1.2, 'n_estimators': 500}\n"
     ]
    }
   ],
   "source": [
    "# find the optimum values for the parameters of the Ada boost algorithm \n",
    "# GridSearchCV takes every possible value ( specified ones) and train the model on the different combination \n",
    "\n",
    "from sklearn.model_selection import GridSearchCV\n",
    "\n",
    "# defining the classifier\n",
    "model = AdaBoostClassifier()\n",
    "\n",
    "# creating a dic for the grid\n",
    "grid = dict()\n",
    "\n",
    "# estimator till 500\n",
    "grid['n_estimators'] = [10, 50, 100, 200, 500]\n",
    "\n",
    "# defining learning rate\n",
    "grid['learning_rate'] = [0.0001, 0.01, 0.1, 1.0, 1.1, 1.2]\n",
    "\n",
    "# defining the CV\n",
    "cv = RepeatedStratifiedKFold(n_splits=10, n_repeats=3)\n",
    "\n",
    "# initializing the grid search\n",
    "grid_search = GridSearchCV(estimator=model, param_grid=grid, n_jobs=-1, cv=cv, scoring='accuracy')\n",
    "\n",
    "# training the model on grid search for hyperparameter tuning of Adaboost\n",
    "grid_result = grid_search.fit(X, y)\n",
    "\n",
    "# finding the best results /hyperparameter tuning of Adaboost\n",
    "print(\"Best: %f using %s\" % (grid_result.best_score_, grid_result.best_params_))"
   ]
  },
  {
   "cell_type": "code",
   "execution_count": 43,
   "id": "1c41c1d6",
   "metadata": {},
   "outputs": [
    {
     "ename": "ValueError",
     "evalue": "setting an array element with a sequence. The requested array has an inhomogeneous shape after 1 dimensions. The detected shape was (2,) + inhomogeneous part.",
     "output_type": "error",
     "traceback": [
      "\u001b[1;31m---------------------------------------------------------------------------\u001b[0m",
      "\u001b[1;31mValueError\u001b[0m                                Traceback (most recent call last)",
      "Input \u001b[1;32mIn [43]\u001b[0m, in \u001b[0;36m<cell line: 19>\u001b[1;34m()\u001b[0m\n\u001b[0;32m     13\u001b[0m bays[\u001b[38;5;124m'\u001b[39m\u001b[38;5;124mlearning_rate\u001b[39m\u001b[38;5;124m'\u001b[39m] \u001b[38;5;241m=\u001b[39m [\u001b[38;5;241m0.0001\u001b[39m, \u001b[38;5;241m0.01\u001b[39m, \u001b[38;5;241m0.1\u001b[39m, \u001b[38;5;241m1.0\u001b[39m, \u001b[38;5;241m1.1\u001b[39m, \u001b[38;5;241m1.2\u001b[39m]\n\u001b[0;32m     15\u001b[0m \u001b[38;5;66;03m# defining the CV\u001b[39;00m\n\u001b[0;32m     16\u001b[0m \u001b[38;5;66;03m# cv = RepeatedStratifiedKFold(n_splits=10, n_repeats=3)\u001b[39;00m\n\u001b[0;32m     17\u001b[0m \n\u001b[0;32m     18\u001b[0m \u001b[38;5;66;03m# initializing the grid search\u001b[39;00m\n\u001b[1;32m---> 19\u001b[0m bays_opt \u001b[38;5;241m=\u001b[39m \u001b[43mBayesianOptimization\u001b[49m\u001b[43m(\u001b[49m\u001b[43mf\u001b[49m\u001b[43m \u001b[49m\u001b[38;5;241;43m=\u001b[39;49m\u001b[43m \u001b[49m\u001b[43mmodel\u001b[49m\u001b[43m,\u001b[49m\u001b[43m \u001b[49m\u001b[43mpbounds\u001b[49m\u001b[43m \u001b[49m\u001b[38;5;241;43m=\u001b[39;49m\u001b[43m \u001b[49m\u001b[43mbays\u001b[49m\u001b[43m,\u001b[49m\u001b[43m \u001b[49m\u001b[43mrandom_state\u001b[49m\u001b[43m \u001b[49m\u001b[38;5;241;43m=\u001b[39;49m\u001b[43m \u001b[49m\u001b[38;5;241;43m1\u001b[39;49m\u001b[43m)\u001b[49m\n\u001b[0;32m     21\u001b[0m optimizer\u001b[38;5;241m.\u001b[39mmaximize(init_points \u001b[38;5;241m=\u001b[39m \u001b[38;5;241m2\u001b[39m, n_iter \u001b[38;5;241m=\u001b[39m \u001b[38;5;241m3\u001b[39m)\n\u001b[0;32m     23\u001b[0m \u001b[38;5;28mprint\u001b[39m(optimizer\u001b[38;5;241m.\u001b[39mspace\u001b[38;5;241m.\u001b[39mkeys)\n",
      "File \u001b[1;32m~\\anaconda3\\envs\\hamtech\\lib\\site-packages\\bayes_opt\\bayesian_optimization.py:132\u001b[0m, in \u001b[0;36mBayesianOptimization.__init__\u001b[1;34m(self, f, pbounds, constraint, random_state, verbose, bounds_transformer)\u001b[0m\n\u001b[0;32m    120\u001b[0m \u001b[38;5;28mself\u001b[39m\u001b[38;5;241m.\u001b[39m_gp \u001b[38;5;241m=\u001b[39m GaussianProcessRegressor(\n\u001b[0;32m    121\u001b[0m     kernel\u001b[38;5;241m=\u001b[39mMatern(nu\u001b[38;5;241m=\u001b[39m\u001b[38;5;241m2.5\u001b[39m),\n\u001b[0;32m    122\u001b[0m     alpha\u001b[38;5;241m=\u001b[39m\u001b[38;5;241m1e-6\u001b[39m,\n\u001b[1;32m   (...)\u001b[0m\n\u001b[0;32m    125\u001b[0m     random_state\u001b[38;5;241m=\u001b[39m\u001b[38;5;28mself\u001b[39m\u001b[38;5;241m.\u001b[39m_random_state,\n\u001b[0;32m    126\u001b[0m )\n\u001b[0;32m    128\u001b[0m \u001b[38;5;28;01mif\u001b[39;00m constraint \u001b[38;5;129;01mis\u001b[39;00m \u001b[38;5;28;01mNone\u001b[39;00m:\n\u001b[0;32m    129\u001b[0m     \u001b[38;5;66;03m# Data structure containing the function to be optimized, the\u001b[39;00m\n\u001b[0;32m    130\u001b[0m     \u001b[38;5;66;03m# bounds of its domain, and a record of the evaluations we have\u001b[39;00m\n\u001b[0;32m    131\u001b[0m     \u001b[38;5;66;03m# done so far\u001b[39;00m\n\u001b[1;32m--> 132\u001b[0m     \u001b[38;5;28mself\u001b[39m\u001b[38;5;241m.\u001b[39m_space \u001b[38;5;241m=\u001b[39m \u001b[43mTargetSpace\u001b[49m\u001b[43m(\u001b[49m\u001b[43mf\u001b[49m\u001b[43m,\u001b[49m\u001b[43m \u001b[49m\u001b[43mpbounds\u001b[49m\u001b[43m,\u001b[49m\u001b[43m \u001b[49m\u001b[43mrandom_state\u001b[49m\u001b[43m)\u001b[49m\n\u001b[0;32m    133\u001b[0m     \u001b[38;5;28mself\u001b[39m\u001b[38;5;241m.\u001b[39mis_constrained \u001b[38;5;241m=\u001b[39m \u001b[38;5;28;01mFalse\u001b[39;00m\n\u001b[0;32m    134\u001b[0m \u001b[38;5;28;01melse\u001b[39;00m:\n",
      "File \u001b[1;32m~\\anaconda3\\envs\\hamtech\\lib\\site-packages\\bayes_opt\\target_space.py:48\u001b[0m, in \u001b[0;36mTargetSpace.__init__\u001b[1;34m(self, target_func, pbounds, random_state)\u001b[0m\n\u001b[0;32m     46\u001b[0m \u001b[38;5;28mself\u001b[39m\u001b[38;5;241m.\u001b[39m_keys \u001b[38;5;241m=\u001b[39m \u001b[38;5;28msorted\u001b[39m(pbounds)\n\u001b[0;32m     47\u001b[0m \u001b[38;5;66;03m# Create an array with parameters bounds\u001b[39;00m\n\u001b[1;32m---> 48\u001b[0m \u001b[38;5;28mself\u001b[39m\u001b[38;5;241m.\u001b[39m_bounds \u001b[38;5;241m=\u001b[39m \u001b[43mnp\u001b[49m\u001b[38;5;241;43m.\u001b[39;49m\u001b[43marray\u001b[49m\u001b[43m(\u001b[49m\n\u001b[0;32m     49\u001b[0m \u001b[43m    \u001b[49m\u001b[43m[\u001b[49m\u001b[43mitem\u001b[49m\u001b[43m[\u001b[49m\u001b[38;5;241;43m1\u001b[39;49m\u001b[43m]\u001b[49m\u001b[43m \u001b[49m\u001b[38;5;28;43;01mfor\u001b[39;49;00m\u001b[43m \u001b[49m\u001b[43mitem\u001b[49m\u001b[43m \u001b[49m\u001b[38;5;129;43;01min\u001b[39;49;00m\u001b[43m \u001b[49m\u001b[38;5;28;43msorted\u001b[39;49m\u001b[43m(\u001b[49m\u001b[43mpbounds\u001b[49m\u001b[38;5;241;43m.\u001b[39;49m\u001b[43mitems\u001b[49m\u001b[43m(\u001b[49m\u001b[43m)\u001b[49m\u001b[43m,\u001b[49m\u001b[43m \u001b[49m\u001b[43mkey\u001b[49m\u001b[38;5;241;43m=\u001b[39;49m\u001b[38;5;28;43;01mlambda\u001b[39;49;00m\u001b[43m \u001b[49m\u001b[43mx\u001b[49m\u001b[43m:\u001b[49m\u001b[43m \u001b[49m\u001b[43mx\u001b[49m\u001b[43m[\u001b[49m\u001b[38;5;241;43m0\u001b[39;49m\u001b[43m]\u001b[49m\u001b[43m)\u001b[49m\u001b[43m]\u001b[49m\u001b[43m,\u001b[49m\n\u001b[0;32m     50\u001b[0m \u001b[43m    \u001b[49m\u001b[43mdtype\u001b[49m\u001b[38;5;241;43m=\u001b[39;49m\u001b[38;5;28;43mfloat\u001b[39;49m\n\u001b[0;32m     51\u001b[0m \u001b[43m\u001b[49m\u001b[43m)\u001b[49m\n\u001b[0;32m     53\u001b[0m \u001b[38;5;66;03m# preallocated memory for X and Y points\u001b[39;00m\n\u001b[0;32m     54\u001b[0m \u001b[38;5;28mself\u001b[39m\u001b[38;5;241m.\u001b[39m_params \u001b[38;5;241m=\u001b[39m np\u001b[38;5;241m.\u001b[39mempty(shape\u001b[38;5;241m=\u001b[39m(\u001b[38;5;241m0\u001b[39m, \u001b[38;5;28mself\u001b[39m\u001b[38;5;241m.\u001b[39mdim))\n",
      "\u001b[1;31mValueError\u001b[0m: setting an array element with a sequence. The requested array has an inhomogeneous shape after 1 dimensions. The detected shape was (2,) + inhomogeneous part."
     ]
    }
   ],
   "source": [
    "from bayes_opt import BayesianOptimization\n",
    "\n",
    "# defining the classifier\n",
    "model = AdaBoostClassifier()\n",
    "\n",
    "# creating a dic for the grid\n",
    "bays = dict()\n",
    "\n",
    "# estimator till 500\n",
    "bays['n_estimators'] = [10, 50, 100, 200, 500]\n",
    "\n",
    "# defining learning rate\n",
    "bays['learning_rate'] = [0.0001, 0.01, 0.1, 1.0, 1.1, 1.2]\n",
    "\n",
    "# defining the CV\n",
    "# cv = RepeatedStratifiedKFold(n_splits=10, n_repeats=3)\n",
    "\n",
    "# initializing the grid search\n",
    "bays_opt = BayesianOptimization(f = model, pbounds = bays, random_state = 1)\n",
    "\n",
    "optimizer.maximize(init_points = 2, n_iter = 3)\n",
    "\n",
    "print(optimizer.space.keys)"
   ]
  }
 ],
 "metadata": {
  "kernelspec": {
   "display_name": "Python 3 (ipykernel)",
   "language": "python",
   "name": "python3"
  },
  "language_info": {
   "codemirror_mode": {
    "name": "ipython",
    "version": 3
   },
   "file_extension": ".py",
   "mimetype": "text/x-python",
   "name": "python",
   "nbconvert_exporter": "python",
   "pygments_lexer": "ipython3",
   "version": "3.9.13"
  }
 },
 "nbformat": 4,
 "nbformat_minor": 5
}
