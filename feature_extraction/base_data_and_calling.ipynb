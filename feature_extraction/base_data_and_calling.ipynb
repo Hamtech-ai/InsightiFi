{
 "cells": [
  {
   "cell_type": "code",
   "execution_count": 1,
   "metadata": {},
   "outputs": [],
   "source": [
    "#Daily Feature\n",
    "import pandas as pd\n",
    "import numpy as np\n",
    "import datetime as datetime\n",
    "import pytse_client as tse\n",
    "from pytse_client import download_client_types_records\n",
    "from pytse_client.download import download_financial_indexes"
   ]
  },
  {
   "cell_type": "markdown",
   "metadata": {},
   "source": [
    "## Importing price + individuals + total index data from library"
   ]
  },
  {
   "cell_type": "code",
   "execution_count": 2,
   "metadata": {},
   "outputs": [],
   "source": [
    "#Price data\n",
    "tickers = tse.download(symbols=\"فولاد\", adjust=True, write_to_csv=True)\n",
    "df = pd.DataFrame.from_dict(tickers[\"فولاد\"])"
   ]
  },
  {
   "cell_type": "code",
   "execution_count": 3,
   "metadata": {},
   "outputs": [],
   "source": [
    "#Individual data\n",
    "if __name__ == '__main__':\n",
    "    records_dict = download_client_types_records(\"فولاد\")\n",
    "df1 = pd.DataFrame.from_dict(records_dict[\"فولاد\"])\n",
    "\n",
    "df1['date'] = pd.to_datetime(df1['date'])\n",
    "df1.iloc[:, 1: 13] =df1.iloc[:, 1: 13].astype('float')\n",
    "\n",
    "df_feature = pd.merge(df, df1, how = 'left', on = 'date')"
   ]
  },
  {
   "cell_type": "code",
   "execution_count": null,
   "metadata": {},
   "outputs": [],
   "source": [
    "df_feature.to_csv(\"base.csv\")"
   ]
  },
  {
   "cell_type": "code",
   "execution_count": 4,
   "metadata": {},
   "outputs": [],
   "source": [
    "#Total index\n",
    "marketIndex = download_financial_indexes(symbols = 'شاخص كل', write_to_csv = True, include_jdate = True)\n",
    "marketIndex = marketIndex['شاخص كل']\n",
    "marketIndex.rename(columns = {'value': 'TEDPIX'}, inplace = True)\n",
    "\n",
    "df_feature = pd.merge(df_feature, marketIndex, how = 'left', on = 'date')"
   ]
  },
  {
   "cell_type": "markdown",
   "metadata": {},
   "source": [
    "## Alireza features"
   ]
  },
  {
   "cell_type": "code",
   "execution_count": 5,
   "metadata": {},
   "outputs": [],
   "source": [
    "#Alireza columns\n",
    "df_feature['pct_change'] = df_feature['adjClose'].pct_change() * 100\n",
    "df_feature['Enter_individual_money'] =df_feature['individual_buy_value'] -df_feature['individual_sell_value']\n",
    "df_feature['Individual_buy_per_capita'] =df_feature['individual_buy_value'] /df_feature['individual_buy_count']\n",
    "df_feature['Individual_sell_per_capita'] =df_feature['individual_sell_value'] /df_feature['individual_sell_count']\n",
    "df_feature['Individual_buy_power_to_Individual_sell'] =df_feature['Individual_buy_per_capita'] /df_feature['Individual_sell_per_capita']"
   ]
  },
  {
   "cell_type": "markdown",
   "metadata": {},
   "source": [
    "## Import daily features"
   ]
  },
  {
   "cell_type": "code",
   "execution_count": 6,
   "metadata": {},
   "outputs": [],
   "source": [
    "import daily_features as fe\n",
    "\n",
    "x = fe.candlestick_feature(df_feature)\n",
    "y = fe.weight_feature(df_feature)\n",
    "k = fe.proportion_feature(df_feature)\n",
    "w = fe.logarithmic_feature(df_feature)\n",
    "z = fe.shift_data(df_feature)\n",
    "\n",
    "df_feature = pd.concat([df_feature, x, y, k, w, z], axis=1)"
   ]
  },
  {
   "cell_type": "markdown",
   "metadata": {},
   "source": [
    "## Import indicator features"
   ]
  },
  {
   "cell_type": "code",
   "execution_count": 7,
   "metadata": {},
   "outputs": [],
   "source": [
    "import indicator_features as fe\n",
    "\n",
    "a = fe.BB(df_feature)\n",
    "b = fe.EMA(df_feature)\n",
    "c = fe.MACD(df_feature)\n",
    "d = fe.RSI(df_feature)\n",
    "e = fe.SMA(df_feature)\n",
    "f = fe.STOCHASTIC(df_feature)\n",
    "\n",
    "df_feature = pd.concat([df_feature, a, b, c, d, e, f], axis=1)\n"
   ]
  },
  {
   "cell_type": "code",
   "execution_count": 12,
   "metadata": {},
   "outputs": [],
   "source": [
    "df_feature.to_csv(\"file1.csv\")"
   ]
  },
  {
   "cell_type": "code",
   "execution_count": 11,
   "metadata": {},
   "outputs": [
    {
     "ename": "ArrowInvalid",
     "evalue": "File is too small to be a well-formed file",
     "output_type": "error",
     "traceback": [
      "\u001b[1;31m---------------------------------------------------------------------------\u001b[0m",
      "\u001b[1;31mArrowInvalid\u001b[0m                              Traceback (most recent call last)",
      "\u001b[1;32me:\\iran-stock-market\\feature_extraction\\base_data_and_calling.ipynb Cell 13\u001b[0m in \u001b[0;36m<cell line: 1>\u001b[1;34m()\u001b[0m\n\u001b[1;32m----> <a href='vscode-notebook-cell:/e%3A/iran-stock-market/feature_extraction/base_data_and_calling.ipynb#X15sZmlsZQ%3D%3D?line=0'>1</a>\u001b[0m labeling_df \u001b[39m=\u001b[39m pd\u001b[39m.\u001b[39;49mread_feather(\u001b[39m'\u001b[39;49m\u001b[39mfile1.feather\u001b[39;49m\u001b[39m'\u001b[39;49m)\n\u001b[0;32m      <a href='vscode-notebook-cell:/e%3A/iran-stock-market/feature_extraction/base_data_and_calling.ipynb#X15sZmlsZQ%3D%3D?line=1'>2</a>\u001b[0m labeling_df\u001b[39m.\u001b[39mhead()\n",
      "File \u001b[1;32m~\\AppData\\Local\\Packages\\PythonSoftwareFoundation.Python.3.10_qbz5n2kfra8p0\\LocalCache\\local-packages\\Python310\\site-packages\\pandas\\io\\feather_format.py:132\u001b[0m, in \u001b[0;36mread_feather\u001b[1;34m(path, columns, use_threads, storage_options)\u001b[0m\n\u001b[0;32m    126\u001b[0m \u001b[39mfrom\u001b[39;00m \u001b[39mpyarrow\u001b[39;00m \u001b[39mimport\u001b[39;00m feather\n\u001b[0;32m    128\u001b[0m \u001b[39mwith\u001b[39;00m get_handle(\n\u001b[0;32m    129\u001b[0m     path, \u001b[39m\"\u001b[39m\u001b[39mrb\u001b[39m\u001b[39m\"\u001b[39m, storage_options\u001b[39m=\u001b[39mstorage_options, is_text\u001b[39m=\u001b[39m\u001b[39mFalse\u001b[39;00m\n\u001b[0;32m    130\u001b[0m ) \u001b[39mas\u001b[39;00m handles:\n\u001b[1;32m--> 132\u001b[0m     \u001b[39mreturn\u001b[39;00m feather\u001b[39m.\u001b[39;49mread_feather(\n\u001b[0;32m    133\u001b[0m         handles\u001b[39m.\u001b[39;49mhandle, columns\u001b[39m=\u001b[39;49mcolumns, use_threads\u001b[39m=\u001b[39;49m\u001b[39mbool\u001b[39;49m(use_threads)\n\u001b[0;32m    134\u001b[0m     )\n",
      "File \u001b[1;32m~\\AppData\\Local\\Packages\\PythonSoftwareFoundation.Python.3.10_qbz5n2kfra8p0\\LocalCache\\local-packages\\Python310\\site-packages\\pyarrow\\feather.py:231\u001b[0m, in \u001b[0;36mread_feather\u001b[1;34m(source, columns, use_threads, memory_map)\u001b[0m\n\u001b[0;32m    208\u001b[0m \u001b[39m\"\"\"\u001b[39;00m\n\u001b[0;32m    209\u001b[0m \u001b[39mRead a pandas.DataFrame from Feather format. To read as pyarrow.Table use\u001b[39;00m\n\u001b[0;32m    210\u001b[0m \u001b[39mfeather.read_table.\u001b[39;00m\n\u001b[1;32m   (...)\u001b[0m\n\u001b[0;32m    228\u001b[0m \u001b[39mdf : pandas.DataFrame\u001b[39;00m\n\u001b[0;32m    229\u001b[0m \u001b[39m\"\"\"\u001b[39;00m\n\u001b[0;32m    230\u001b[0m _check_pandas_version()\n\u001b[1;32m--> 231\u001b[0m \u001b[39mreturn\u001b[39;00m (read_table(\n\u001b[0;32m    232\u001b[0m     source, columns\u001b[39m=\u001b[39;49mcolumns, memory_map\u001b[39m=\u001b[39;49mmemory_map,\n\u001b[0;32m    233\u001b[0m     use_threads\u001b[39m=\u001b[39;49muse_threads)\u001b[39m.\u001b[39mto_pandas(use_threads\u001b[39m=\u001b[39muse_threads))\n",
      "File \u001b[1;32m~\\AppData\\Local\\Packages\\PythonSoftwareFoundation.Python.3.10_qbz5n2kfra8p0\\LocalCache\\local-packages\\Python310\\site-packages\\pyarrow\\feather.py:256\u001b[0m, in \u001b[0;36mread_table\u001b[1;34m(source, columns, memory_map, use_threads)\u001b[0m\n\u001b[0;32m    236\u001b[0m \u001b[39mdef\u001b[39;00m \u001b[39mread_table\u001b[39m(source, columns\u001b[39m=\u001b[39m\u001b[39mNone\u001b[39;00m, memory_map\u001b[39m=\u001b[39m\u001b[39mFalse\u001b[39;00m, use_threads\u001b[39m=\u001b[39m\u001b[39mTrue\u001b[39;00m):\n\u001b[0;32m    237\u001b[0m     \u001b[39m\"\"\"\u001b[39;00m\n\u001b[0;32m    238\u001b[0m \u001b[39m    Read a pyarrow.Table from Feather format\u001b[39;00m\n\u001b[0;32m    239\u001b[0m \n\u001b[1;32m   (...)\u001b[0m\n\u001b[0;32m    254\u001b[0m \u001b[39m    table : pyarrow.Table\u001b[39;00m\n\u001b[0;32m    255\u001b[0m \u001b[39m    \"\"\"\u001b[39;00m\n\u001b[1;32m--> 256\u001b[0m     reader \u001b[39m=\u001b[39m _feather\u001b[39m.\u001b[39;49mFeatherReader(\n\u001b[0;32m    257\u001b[0m         source, use_memory_map\u001b[39m=\u001b[39;49mmemory_map, use_threads\u001b[39m=\u001b[39;49muse_threads)\n\u001b[0;32m    259\u001b[0m     \u001b[39mif\u001b[39;00m columns \u001b[39mis\u001b[39;00m \u001b[39mNone\u001b[39;00m:\n\u001b[0;32m    260\u001b[0m         \u001b[39mreturn\u001b[39;00m reader\u001b[39m.\u001b[39mread()\n",
      "File \u001b[1;32m~\\AppData\\Local\\Packages\\PythonSoftwareFoundation.Python.3.10_qbz5n2kfra8p0\\LocalCache\\local-packages\\Python310\\site-packages\\pyarrow\\_feather.pyx:79\u001b[0m, in \u001b[0;36mpyarrow._feather.FeatherReader.__cinit__\u001b[1;34m()\u001b[0m\n",
      "File \u001b[1;32m~\\AppData\\Local\\Packages\\PythonSoftwareFoundation.Python.3.10_qbz5n2kfra8p0\\LocalCache\\local-packages\\Python310\\site-packages\\pyarrow\\error.pxi:144\u001b[0m, in \u001b[0;36mpyarrow.lib.pyarrow_internal_check_status\u001b[1;34m()\u001b[0m\n",
      "File \u001b[1;32m~\\AppData\\Local\\Packages\\PythonSoftwareFoundation.Python.3.10_qbz5n2kfra8p0\\LocalCache\\local-packages\\Python310\\site-packages\\pyarrow\\error.pxi:100\u001b[0m, in \u001b[0;36mpyarrow.lib.check_status\u001b[1;34m()\u001b[0m\n",
      "\u001b[1;31mArrowInvalid\u001b[0m: File is too small to be a well-formed file"
     ]
    }
   ],
   "source": [
    "labeling_df = pd.read_feather('file1.feather')\n",
    "labeling_df.head()"
   ]
  }
 ],
 "metadata": {
  "kernelspec": {
   "display_name": "Python 3.10.8 64-bit (microsoft store)",
   "language": "python",
   "name": "python3"
  },
  "language_info": {
   "codemirror_mode": {
    "name": "ipython",
    "version": 3
   },
   "file_extension": ".py",
   "mimetype": "text/x-python",
   "name": "python",
   "nbconvert_exporter": "python",
   "pygments_lexer": "ipython3",
   "version": "3.10.8"
  },
  "orig_nbformat": 4,
  "vscode": {
   "interpreter": {
    "hash": "5d6894323527fd094dbc63787e8544d02366714fa2b184258187a65917f25275"
   }
  }
 },
 "nbformat": 4,
 "nbformat_minor": 2
}
